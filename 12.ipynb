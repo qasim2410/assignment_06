{
 "cells": [
  {
   "cell_type": "markdown",
   "id": "96a2004a-6f52-4f72-b56a-7f88ab50a648",
   "metadata": {},
   "source": [
    "# Static Methods"
   ]
  },
  {
   "cell_type": "code",
   "execution_count": 1,
   "id": "7b22e594-24cd-43f8-9891-5d3f2cab88a3",
   "metadata": {},
   "outputs": [
    {
     "name": "stdout",
     "output_type": "stream",
     "text": [
      "25°C is equal to 77.0 °F\n"
     ]
    }
   ],
   "source": [
    "class TemperatureConverter:\n",
    "    \n",
    "    @staticmethod\n",
    "    def celsius_to_fahrenheit(c):\n",
    "        return (c * 9/5) + 32  # Convert Celsius to Fahrenheit\n",
    "\n",
    "# Using the static method to convert 25°C to Fahrenheit\n",
    "temperature_in_fahrenheit = TemperatureConverter.celsius_to_fahrenheit(25)\n",
    "\n",
    "# Print the result\n",
    "print(\"25°C is equal to\", temperature_in_fahrenheit, \"°F\")"
   ]
  },
  {
   "cell_type": "code",
   "execution_count": null,
   "id": "5d972c8c-2ff8-4218-9709-b04955a1e284",
   "metadata": {},
   "outputs": [],
   "source": []
  }
 ],
 "metadata": {
  "kernelspec": {
   "display_name": "Python 3 (ipykernel)",
   "language": "python",
   "name": "python3"
  },
  "language_info": {
   "codemirror_mode": {
    "name": "ipython",
    "version": 3
   },
   "file_extension": ".py",
   "mimetype": "text/x-python",
   "name": "python",
   "nbconvert_exporter": "python",
   "pygments_lexer": "ipython3",
   "version": "3.12.7"
  }
 },
 "nbformat": 4,
 "nbformat_minor": 5
}
