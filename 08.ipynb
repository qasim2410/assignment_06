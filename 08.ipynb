{
 "cells": [
  {
   "cell_type": "markdown",
   "id": "cc7daa80-7ea9-45c9-811f-83155bcebd35",
   "metadata": {},
   "source": [
    "# The super() Function"
   ]
  },
  {
   "cell_type": "code",
   "execution_count": 2,
   "id": "df4991b5-fb90-4956-8b36-bed1156691ec",
   "metadata": {},
   "outputs": [
    {
     "name": "stdout",
     "output_type": "stream",
     "text": [
      "Name: Qasim Hussain\n",
      "Subject: Mathematics\n"
     ]
    }
   ],
   "source": [
    "class Person:\n",
    "    def __init__(self, name):\n",
    "        self.name = name  # Set the person's name\n",
    "\n",
    "class Teacher(Person):\n",
    "    def __init__(self, name, subject):\n",
    "        super().__init__(name)  # Call the constructor of Person class\n",
    "        self.subject = subject  # Set the subject for the teacher\n",
    "\n",
    "    def show_info(self):\n",
    "        print(f\"Name: {self.name}\")\n",
    "        print(f\"Subject: {self.subject}\")\n",
    "\n",
    "# Create an object of Teacher class\n",
    "teacher = Teacher(\"Qasim Hussain\", \"Mathematics\")\n",
    "\n",
    "# Show the teacher's info\n",
    "teacher.show_info()\n"
   ]
  },
  {
   "cell_type": "code",
   "execution_count": null,
   "id": "e481130d-d434-40f0-80f3-9e2560dd4163",
   "metadata": {},
   "outputs": [],
   "source": []
  }
 ],
 "metadata": {
  "kernelspec": {
   "display_name": "Python 3 (ipykernel)",
   "language": "python",
   "name": "python3"
  },
  "language_info": {
   "codemirror_mode": {
    "name": "ipython",
    "version": 3
   },
   "file_extension": ".py",
   "mimetype": "text/x-python",
   "name": "python",
   "nbconvert_exporter": "python",
   "pygments_lexer": "ipython3",
   "version": "3.12.7"
  }
 },
 "nbformat": 4,
 "nbformat_minor": 5
}
