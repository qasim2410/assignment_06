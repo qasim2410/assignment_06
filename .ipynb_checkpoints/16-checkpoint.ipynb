{
 "cells": [
  {
   "cell_type": "markdown",
   "id": "5a2ff9d3-c7ac-4826-bddc-eec6e8996369",
   "metadata": {},
   "source": [
    "# Function Decorators"
   ]
  },
  {
   "cell_type": "code",
   "execution_count": 1,
   "id": "ea45ffd8-8e8e-43ac-b02f-e93b9752b22d",
   "metadata": {},
   "outputs": [
    {
     "name": "stdout",
     "output_type": "stream",
     "text": [
      "Function is being called\n",
      "Hello!\n"
     ]
    }
   ],
   "source": [
    "# Decorator function\n",
    "def log_function_call(func):\n",
    "    def wrapper():\n",
    "        print(\"Function is being called\")  # Print before the function runs\n",
    "        func()  # Call the original function\n",
    "    return wrapper  # Return the wrapper function\n",
    "\n",
    "# Function to say hello\n",
    "@log_function_call\n",
    "def say_hello():\n",
    "    print(\"Hello!\")\n",
    "\n",
    "# Call the decorated function\n",
    "say_hello()"
   ]
  },
  {
   "cell_type": "code",
   "execution_count": null,
   "id": "e70f5623-e030-42e1-b233-1acef13f715b",
   "metadata": {},
   "outputs": [],
   "source": []
  }
 ],
 "metadata": {
  "kernelspec": {
   "display_name": "Python 3 (ipykernel)",
   "language": "python",
   "name": "python3"
  },
  "language_info": {
   "codemirror_mode": {
    "name": "ipython",
    "version": 3
   },
   "file_extension": ".py",
   "mimetype": "text/x-python",
   "name": "python",
   "nbconvert_exporter": "python",
   "pygments_lexer": "ipython3",
   "version": "3.12.7"
  }
 },
 "nbformat": 4,
 "nbformat_minor": 5
}
