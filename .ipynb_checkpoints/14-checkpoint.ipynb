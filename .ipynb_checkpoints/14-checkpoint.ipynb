{
 "cells": [
  {
   "cell_type": "markdown",
   "id": "fe383086-9fdd-48cb-868d-651e9fdc05ce",
   "metadata": {},
   "source": [
    "# Aggregation"
   ]
  },
  {
   "cell_type": "code",
   "execution_count": 2,
   "id": "019dc838-9503-431b-a3ac-68f3c01543b4",
   "metadata": {},
   "outputs": [
    {
     "name": "stdout",
     "output_type": "stream",
     "text": [
      "Department: HR, Employee: Qasim Hussain, Manager\n"
     ]
    }
   ],
   "source": [
    "class Employee:\n",
    "    def __init__(self, name, position):\n",
    "        self.name = name  # Instance variable for employee's name\n",
    "        self.position = position  # Instance variable for employee's position\n",
    "\n",
    "    def show_info(self):\n",
    "        return f\"{self.name}, {self.position}\"\n",
    "\n",
    "class Department:\n",
    "    def __init__(self, dept_name, employee):\n",
    "        self.dept_name = dept_name  # Department's name\n",
    "        self.employee = employee  # Aggregation: Department refers to an Employee object\n",
    "\n",
    "    def show_dept_info(self):\n",
    "        return f\"Department: {self.dept_name}, Employee: {self.employee.show_info()}\"\n",
    "\n",
    "# Create an Employee object\n",
    "employee1 = Employee(\"Qasim Hussain\", \"Manager\")\n",
    "\n",
    "# Create a Department object and pass the Employee object to it\n",
    "dept1 = Department(\"HR\", employee1)\n",
    "\n",
    "# Show department info, including employee info\n",
    "print(dept1.show_dept_info())"
   ]
  },
  {
   "cell_type": "code",
   "execution_count": null,
   "id": "6d908b46-52a7-42aa-b7cb-e121985a76f6",
   "metadata": {},
   "outputs": [],
   "source": []
  }
 ],
 "metadata": {
  "kernelspec": {
   "display_name": "Python 3 (ipykernel)",
   "language": "python",
   "name": "python3"
  },
  "language_info": {
   "codemirror_mode": {
    "name": "ipython",
    "version": 3
   },
   "file_extension": ".py",
   "mimetype": "text/x-python",
   "name": "python",
   "nbconvert_exporter": "python",
   "pygments_lexer": "ipython3",
   "version": "3.12.7"
  }
 },
 "nbformat": 4,
 "nbformat_minor": 5
}
