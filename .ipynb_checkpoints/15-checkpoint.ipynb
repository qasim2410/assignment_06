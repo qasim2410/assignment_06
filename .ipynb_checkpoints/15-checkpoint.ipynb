{
 "cells": [
  {
   "cell_type": "markdown",
   "id": "724b64b0-9940-443d-b5d7-553e7846c154",
   "metadata": {},
   "source": [
    "# Method Resolution Order (MRO) and Diamond Inheritance\n"
   ]
  },
  {
   "cell_type": "code",
   "execution_count": 1,
   "id": "2c50743b-b845-4f93-a111-f7103e628ab9",
   "metadata": {},
   "outputs": [
    {
     "name": "stdout",
     "output_type": "stream",
     "text": [
      "Class B\n",
      "[<class '__main__.D'>, <class '__main__.B'>, <class '__main__.C'>, <class '__main__.A'>, <class 'object'>]\n"
     ]
    }
   ],
   "source": [
    "class A:\n",
    "    def show(self):\n",
    "        print(\"Class A\")\n",
    "\n",
    "class B(A):\n",
    "    def show(self):\n",
    "        print(\"Class B\")\n",
    "\n",
    "class C(A):\n",
    "    def show(self):\n",
    "        print(\"Class C\")\n",
    "\n",
    "class D(B, C):  # D inherits from both B and C\n",
    "    pass\n",
    "\n",
    "# Create an object of class D\n",
    "d = D()\n",
    "\n",
    "# Call the show() method\n",
    "d.show()\n",
    "\n",
    "# Print the MRO of class D\n",
    "print(D.mro())"
   ]
  },
  {
   "cell_type": "code",
   "execution_count": null,
   "id": "0a0fafa1-5938-4229-adcc-8af582be73a6",
   "metadata": {},
   "outputs": [],
   "source": []
  }
 ],
 "metadata": {
  "kernelspec": {
   "display_name": "Python 3 (ipykernel)",
   "language": "python",
   "name": "python3"
  },
  "language_info": {
   "codemirror_mode": {
    "name": "ipython",
    "version": 3
   },
   "file_extension": ".py",
   "mimetype": "text/x-python",
   "name": "python",
   "nbconvert_exporter": "python",
   "pygments_lexer": "ipython3",
   "version": "3.12.7"
  }
 },
 "nbformat": 4,
 "nbformat_minor": 5
}
