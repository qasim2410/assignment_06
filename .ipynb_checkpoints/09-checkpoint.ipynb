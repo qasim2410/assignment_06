{
 "cells": [
  {
   "cell_type": "markdown",
   "id": "52d27cf5-1dee-476a-b448-e6d8d51bb010",
   "metadata": {},
   "source": [
    "# Abstract Classes and Methods"
   ]
  },
  {
   "cell_type": "code",
   "execution_count": 1,
   "id": "c22e0313-d412-40e2-a5f2-300679948e6b",
   "metadata": {},
   "outputs": [
    {
     "name": "stdout",
     "output_type": "stream",
     "text": [
      "Area of Rectangle: 15\n"
     ]
    }
   ],
   "source": [
    "from abc import ABC, abstractmethod  # Import ABC and abstractmethod from abc module\n",
    "\n",
    "class Shape(ABC):\n",
    "    @abstractmethod  # This is an abstract method\n",
    "    def area(self):\n",
    "        pass  # No implementation here; subclasses must implement it\n",
    "\n",
    "class Rectangle(Shape):\n",
    "    def __init__(self, length, width):\n",
    "        self.length = length\n",
    "        self.width = width\n",
    "\n",
    "    def area(self):\n",
    "        return self.length * self.width  # Calculate the area of rectangle\n",
    "\n",
    "# Create a Rectangle object\n",
    "rect = Rectangle(5, 3)\n",
    "\n",
    "# Call the area method\n",
    "print(\"Area of Rectangle:\", rect.area())"
   ]
  },
  {
   "cell_type": "code",
   "execution_count": null,
   "id": "ec415fbe-0e6e-4ad5-ad84-0c81b7d34182",
   "metadata": {},
   "outputs": [],
   "source": []
  }
 ],
 "metadata": {
  "kernelspec": {
   "display_name": "Python 3 (ipykernel)",
   "language": "python",
   "name": "python3"
  },
  "language_info": {
   "codemirror_mode": {
    "name": "ipython",
    "version": 3
   },
   "file_extension": ".py",
   "mimetype": "text/x-python",
   "name": "python",
   "nbconvert_exporter": "python",
   "pygments_lexer": "ipython3",
   "version": "3.12.7"
  }
 },
 "nbformat": 4,
 "nbformat_minor": 5
}
