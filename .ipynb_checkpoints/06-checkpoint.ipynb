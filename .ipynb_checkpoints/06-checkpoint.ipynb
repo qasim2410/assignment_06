{
 "cells": [
  {
   "cell_type": "markdown",
   "id": "596dcb11-9048-460c-adda-3666b937fcec",
   "metadata": {},
   "source": [
    "#  Constructors and Destructors"
   ]
  },
  {
   "cell_type": "code",
   "execution_count": 1,
   "id": "e1bdf5a0-4dfe-4cde-b814-ccf9cf4aa68f",
   "metadata": {},
   "outputs": [
    {
     "name": "stdout",
     "output_type": "stream",
     "text": [
      "📥 Logger started. Object created.\n",
      "🗑️ Logger stopped. Object destroyed.\n"
     ]
    }
   ],
   "source": [
    "class Logger:\n",
    "    def __init__(self):\n",
    "        print(\"📥 Logger started. Object created.\")\n",
    "\n",
    "    def __del__(self):\n",
    "        print(\"🗑️ Logger stopped. Object destroyed.\")\n",
    "\n",
    "# Create an object\n",
    "log = Logger()\n",
    "\n",
    "# Delete the object manually to see the destructor message\n",
    "del log"
   ]
  },
  {
   "cell_type": "code",
   "execution_count": null,
   "id": "c029e689-548c-46b1-a683-cf5e2d7ad995",
   "metadata": {},
   "outputs": [],
   "source": []
  }
 ],
 "metadata": {
  "kernelspec": {
   "display_name": "Python 3 (ipykernel)",
   "language": "python",
   "name": "python3"
  },
  "language_info": {
   "codemirror_mode": {
    "name": "ipython",
    "version": 3
   },
   "file_extension": ".py",
   "mimetype": "text/x-python",
   "name": "python",
   "nbconvert_exporter": "python",
   "pygments_lexer": "ipython3",
   "version": "3.12.7"
  }
 },
 "nbformat": 4,
 "nbformat_minor": 5
}
