{
 "cells": [
  {
   "cell_type": "markdown",
   "id": "bb77decb-7838-4606-8877-42022de7eda3",
   "metadata": {},
   "source": [
    "# callable() and __call__()\n"
   ]
  },
  {
   "cell_type": "code",
   "execution_count": 1,
   "id": "f98f7c16-86d4-481d-b22b-20968cbd00c7",
   "metadata": {},
   "outputs": [
    {
     "name": "stdout",
     "output_type": "stream",
     "text": [
      "True\n",
      "15\n"
     ]
    }
   ],
   "source": [
    "class Multiplier:\n",
    "    def __init__(self, factor):\n",
    "        self.factor = factor  # Set the factor for multiplication\n",
    "    \n",
    "    # Define the __call__ method to multiply an input by the factor\n",
    "    def __call__(self, number):\n",
    "        return number * self.factor  # Multiply the number by the factor\n",
    "\n",
    "# Create a Multiplier object with a factor of 3\n",
    "multiplier = Multiplier(3)\n",
    "\n",
    "# Check if the object is callable using callable()\n",
    "print(callable(multiplier))  # Output: True\n",
    "\n",
    "# Call the object like a function, passing a number\n",
    "result = multiplier(5)  # This is the same as calling multiplier.__call__(5)\n",
    "print(result)  # Output: 15 (5 * 3)"
   ]
  },
  {
   "cell_type": "code",
   "execution_count": null,
   "id": "949c1d50-3453-409c-ad75-2f440df7c0f8",
   "metadata": {},
   "outputs": [],
   "source": []
  }
 ],
 "metadata": {
  "kernelspec": {
   "display_name": "Python 3 (ipykernel)",
   "language": "python",
   "name": "python3"
  },
  "language_info": {
   "codemirror_mode": {
    "name": "ipython",
    "version": 3
   },
   "file_extension": ".py",
   "mimetype": "text/x-python",
   "name": "python",
   "nbconvert_exporter": "python",
   "pygments_lexer": "ipython3",
   "version": "3.12.7"
  }
 },
 "nbformat": 4,
 "nbformat_minor": 5
}
