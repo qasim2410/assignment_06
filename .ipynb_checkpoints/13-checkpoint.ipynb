{
 "cells": [
  {
   "cell_type": "markdown",
   "id": "12a0c892-b8d4-4a98-86bb-9e086b4ab52f",
   "metadata": {},
   "source": [
    "# Composition"
   ]
  },
  {
   "cell_type": "code",
   "execution_count": 1,
   "id": "27b8f013-0b6d-42b3-9fdb-07969627a21e",
   "metadata": {},
   "outputs": [
    {
     "name": "stdout",
     "output_type": "stream",
     "text": [
      "Starting the car...\n",
      "Engine started!\n"
     ]
    }
   ],
   "source": [
    "class Engine:\n",
    "    def start(self):\n",
    "        print(\"Engine started!\")\n",
    "\n",
    "class Car:\n",
    "    def __init__(self, engine):\n",
    "        self.engine = engine  # Composition: Car has an Engine\n",
    "\n",
    "    def start_car(self):\n",
    "        print(\"Starting the car...\")\n",
    "        self.engine.start()  # Access the Engine's start method via the Car class\n",
    "\n",
    "# Create an Engine object\n",
    "my_engine = Engine()\n",
    "\n",
    "# Create a Car object and pass the Engine object to it\n",
    "my_car = Car(my_engine)\n",
    "\n",
    "# Start the car, which will use the Engine's start method\n",
    "my_car.start_car()"
   ]
  },
  {
   "cell_type": "code",
   "execution_count": null,
   "id": "eafccdb7-cb0a-4b00-a653-a4f1023dcf2d",
   "metadata": {},
   "outputs": [],
   "source": []
  }
 ],
 "metadata": {
  "kernelspec": {
   "display_name": "Python 3 (ipykernel)",
   "language": "python",
   "name": "python3"
  },
  "language_info": {
   "codemirror_mode": {
    "name": "ipython",
    "version": 3
   },
   "file_extension": ".py",
   "mimetype": "text/x-python",
   "name": "python",
   "nbconvert_exporter": "python",
   "pygments_lexer": "ipython3",
   "version": "3.12.7"
  }
 },
 "nbformat": 4,
 "nbformat_minor": 5
}
