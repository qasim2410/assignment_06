{
 "cells": [
  {
   "cell_type": "markdown",
   "id": "1e4bf14d-3a21-4e77-81fd-baca72792f5c",
   "metadata": {},
   "source": [
    "# Using Self"
   ]
  },
  {
   "cell_type": "code",
   "execution_count": 1,
   "id": "e3f61ea9-8aee-422c-a86a-3cfd9a14309a",
   "metadata": {},
   "outputs": [
    {
     "name": "stdout",
     "output_type": "stream",
     "text": [
      "Student Name: Qasim\n",
      "Student Marks: 95\n"
     ]
    }
   ],
   "source": [
    "class Student:\n",
    "    # Constructor to set name and marks using 'self'\n",
    "    def __init__(self, name, marks):\n",
    "        self.name = name      # self.name means this student's name\n",
    "        self.marks = marks    # self.marks means this student's marks\n",
    "\n",
    "    # Method to display student details\n",
    "    def display(self):\n",
    "        print(\"Student Name:\", self.name)\n",
    "        print(\"Student Marks:\", self.marks)\n",
    "\n",
    "# Create an object of the Student class\n",
    "student1 = Student(\"Qasim\", 95)\n",
    "\n",
    "# Call the display method to show the details\n",
    "student1.display()"
   ]
  },
  {
   "cell_type": "code",
   "execution_count": null,
   "id": "bdced06f-c311-444e-9e1b-317c53855d6a",
   "metadata": {},
   "outputs": [],
   "source": []
  }
 ],
 "metadata": {
  "kernelspec": {
   "display_name": "Python 3 (ipykernel)",
   "language": "python",
   "name": "python3"
  },
  "language_info": {
   "codemirror_mode": {
    "name": "ipython",
    "version": 3
   },
   "file_extension": ".py",
   "mimetype": "text/x-python",
   "name": "python",
   "nbconvert_exporter": "python",
   "pygments_lexer": "ipython3",
   "version": "3.12.7"
  }
 },
 "nbformat": 4,
 "nbformat_minor": 5
}
