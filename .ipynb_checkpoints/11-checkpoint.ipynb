{
 "cells": [
  {
   "cell_type": "markdown",
   "id": "832c6416-81d6-45ac-90f4-51dca6d21c2d",
   "metadata": {},
   "source": [
    "# Class Methods"
   ]
  },
  {
   "cell_type": "code",
   "execution_count": 1,
   "id": "6732be93-c3fe-401a-8950-8ae638240684",
   "metadata": {},
   "outputs": [
    {
     "name": "stdout",
     "output_type": "stream",
     "text": [
      "Total books: 2\n"
     ]
    }
   ],
   "source": [
    "class Book:\n",
    "    total_books = 0  # Class variable to store total books\n",
    "\n",
    "    def __init__(self, title, author):\n",
    "        self.title = title  # Instance variable for book title\n",
    "        self.author = author  # Instance variable for book author\n",
    "        Book.increment_book_count()  # Call class method to update total_books\n",
    "\n",
    "    @classmethod\n",
    "    def increment_book_count(cls):\n",
    "        cls.total_books += 1  # Increase the total_books by 1 each time a book is added\n",
    "\n",
    "# Create some Book objects\n",
    "book1 = Book(\"Harry Potter\", \"J.K. Rowling\")\n",
    "book2 = Book(\"The Great Gatsby\", \"F. Scott Fitzgerald\")\n",
    "\n",
    "# Print the total number of books\n",
    "print(\"Total books:\", Book.total_books)"
   ]
  },
  {
   "cell_type": "code",
   "execution_count": null,
   "id": "7a1de171-fef3-46e9-8edf-62e74fe0e3cd",
   "metadata": {},
   "outputs": [],
   "source": []
  }
 ],
 "metadata": {
  "kernelspec": {
   "display_name": "Python 3 (ipykernel)",
   "language": "python",
   "name": "python3"
  },
  "language_info": {
   "codemirror_mode": {
    "name": "ipython",
    "version": 3
   },
   "file_extension": ".py",
   "mimetype": "text/x-python",
   "name": "python",
   "nbconvert_exporter": "python",
   "pygments_lexer": "ipython3",
   "version": "3.12.7"
  }
 },
 "nbformat": 4,
 "nbformat_minor": 5
}
