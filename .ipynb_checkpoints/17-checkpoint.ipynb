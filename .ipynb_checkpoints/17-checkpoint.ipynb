{
 "cells": [
  {
   "cell_type": "markdown",
   "id": "f25f7c4f-10fc-4c69-852c-0dc7e61513e9",
   "metadata": {},
   "source": [
    "# Class Decorators"
   ]
  },
  {
   "cell_type": "code",
   "execution_count": 2,
   "id": "1158d1c7-a332-48aa-98d1-00bb51dd1377",
   "metadata": {},
   "outputs": [
    {
     "name": "stdout",
     "output_type": "stream",
     "text": [
      "Hello from Decorator!\n",
      "My name is Qasim Hussain\n"
     ]
    }
   ],
   "source": [
    "# Class decorator to add greet method\n",
    "def add_greeting(cls):\n",
    "    def greet(self):\n",
    "        return \"Hello from Decorator!\"  # The method added by the decorator\n",
    "    cls.greet = greet  # Add the greet method to the class\n",
    "    return cls  # Return the modified class\n",
    "\n",
    "# Apply the class decorator to Person\n",
    "@add_greeting\n",
    "class Person:\n",
    "    def __init__(self, name):\n",
    "        self.name = name\n",
    "\n",
    "    def introduce(self):\n",
    "        return f\"My name is {self.name}\"\n",
    "\n",
    "# Create an instance of Person\n",
    "person1 = Person(\"Qasim Hussain\")\n",
    "\n",
    "# Call the greet() method added by the decorator\n",
    "print(person1.greet())  # This will print: \"Hello from Decorator!\"\n",
    "\n",
    "# Call the introduce() method from Person\n",
    "print(person1.introduce())  # This will print: \"My name is Alice\""
   ]
  },
  {
   "cell_type": "code",
   "execution_count": null,
   "id": "fb0655be-dd12-4181-a4db-b2a0910c32e8",
   "metadata": {},
   "outputs": [],
   "source": []
  }
 ],
 "metadata": {
  "kernelspec": {
   "display_name": "Python 3 (ipykernel)",
   "language": "python",
   "name": "python3"
  },
  "language_info": {
   "codemirror_mode": {
    "name": "ipython",
    "version": 3
   },
   "file_extension": ".py",
   "mimetype": "text/x-python",
   "name": "python",
   "nbconvert_exporter": "python",
   "pygments_lexer": "ipython3",
   "version": "3.12.7"
  }
 },
 "nbformat": 4,
 "nbformat_minor": 5
}
