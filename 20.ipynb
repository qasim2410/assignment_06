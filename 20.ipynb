{
 "cells": [
  {
   "cell_type": "markdown",
   "id": "5c60e538-0feb-4d5a-a958-ef3942b84cfc",
   "metadata": {},
   "source": [
    "# Creating a Custom Exception"
   ]
  },
  {
   "cell_type": "code",
   "execution_count": 1,
   "id": "c26f3d61-4553-47cc-ba7b-eb12c24fce25",
   "metadata": {},
   "outputs": [
    {
     "name": "stdin",
     "output_type": "stream",
     "text": [
      "Enter your age:  21\n"
     ]
    },
    {
     "name": "stdout",
     "output_type": "stream",
     "text": [
      "Age 21 is valid!\n"
     ]
    }
   ],
   "source": [
    "# Define a custom exception\n",
    "class InvalidAgeError(Exception):\n",
    "    pass  # This means no extra functionality is added, just a new type of error\n",
    "\n",
    "# Define a function to check age\n",
    "def check_age(age):\n",
    "    if age < 18:\n",
    "        # Raise the custom InvalidAgeError exception if age is less than 18\n",
    "        raise InvalidAgeError(f\"Age {age} is invalid. Must be 18 or older.\")\n",
    "    else:\n",
    "        return f\"Age {age} is valid!\"\n",
    "\n",
    "# Use try...except to handle the exception\n",
    "try:\n",
    "    age = int(input(\"Enter your age: \"))  # Ask the user to enter their age\n",
    "    result = check_age(age)  # Check if the age is valid\n",
    "    print(result)  # Print the result if no exception occurs\n",
    "except InvalidAgeError as e:\n",
    "    # Handle the InvalidAgeError exception\n",
    "    print(f\"Error: {e}\")\n",
    "except ValueError:\n",
    "    # Handle the case where the input is not a valid integer\n",
    "    print(\"Error: Please enter a valid number for age.\")"
   ]
  },
  {
   "cell_type": "code",
   "execution_count": null,
   "id": "47cbad3d-5834-423c-a66f-642cc03272c9",
   "metadata": {},
   "outputs": [],
   "source": []
  }
 ],
 "metadata": {
  "kernelspec": {
   "display_name": "Python 3 (ipykernel)",
   "language": "python",
   "name": "python3"
  },
  "language_info": {
   "codemirror_mode": {
    "name": "ipython",
    "version": 3
   },
   "file_extension": ".py",
   "mimetype": "text/x-python",
   "name": "python",
   "nbconvert_exporter": "python",
   "pygments_lexer": "ipython3",
   "version": "3.12.7"
  }
 },
 "nbformat": 4,
 "nbformat_minor": 5
}
