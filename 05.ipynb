{
 "cells": [
  {
   "cell_type": "markdown",
   "id": "335d25cb-2874-4414-9ae9-67e528fdb6a0",
   "metadata": {},
   "source": [
    "# Static Variables and Static Methods"
   ]
  },
  {
   "cell_type": "code",
   "execution_count": 1,
   "id": "41162350-c93a-4404-84ee-32dcad4189af",
   "metadata": {},
   "outputs": [
    {
     "name": "stdout",
     "output_type": "stream",
     "text": [
      "The sum is: 12\n"
     ]
    }
   ],
   "source": [
    "class MathUtils:\n",
    "    @staticmethod\n",
    "    def add(a, b):\n",
    "        return a + b\n",
    "\n",
    "# Use the static method without creating an object\n",
    "result = MathUtils.add(7, 5)\n",
    "\n",
    "print(\"The sum is:\", result)"
   ]
  },
  {
   "cell_type": "code",
   "execution_count": null,
   "id": "a0c38eb7-3994-4d2a-b248-2fed9d468349",
   "metadata": {},
   "outputs": [],
   "source": []
  }
 ],
 "metadata": {
  "kernelspec": {
   "display_name": "Python 3 (ipykernel)",
   "language": "python",
   "name": "python3"
  },
  "language_info": {
   "codemirror_mode": {
    "name": "ipython",
    "version": 3
   },
   "file_extension": ".py",
   "mimetype": "text/x-python",
   "name": "python",
   "nbconvert_exporter": "python",
   "pygments_lexer": "ipython3",
   "version": "3.12.7"
  }
 },
 "nbformat": 4,
 "nbformat_minor": 5
}
