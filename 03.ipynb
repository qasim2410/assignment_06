{
 "cells": [
  {
   "cell_type": "markdown",
   "id": "0ae20b31-d8aa-4e11-942f-e9e552fb12ac",
   "metadata": {},
   "source": [
    "# Public Variables and Methods"
   ]
  },
  {
   "cell_type": "code",
   "execution_count": 1,
   "id": "1dcc2c70-abab-4d1d-8660-1ce4c305045d",
   "metadata": {},
   "outputs": [
    {
     "name": "stdout",
     "output_type": "stream",
     "text": [
      "Car Brand: Toyota\n",
      "Toyota car is starting...\n"
     ]
    }
   ],
   "source": [
    "class Car:\n",
    "    def __init__(self, brand):\n",
    "        self.brand = brand   # public variable\n",
    "\n",
    "    def start(self):         # public method\n",
    "        print(self.brand, \"car is starting...\")\n",
    "\n",
    "# Create an object of Car class\n",
    "my_car = Car(\"Toyota\")\n",
    "\n",
    "# Access public variable\n",
    "print(\"Car Brand:\", my_car.brand)\n",
    "\n",
    "# Access public method\n",
    "my_car.start()"
   ]
  },
  {
   "cell_type": "code",
   "execution_count": null,
   "id": "deb8cdaa-1351-4a1b-9ad3-edfc99fb7424",
   "metadata": {},
   "outputs": [],
   "source": []
  }
 ],
 "metadata": {
  "kernelspec": {
   "display_name": "Python 3 (ipykernel)",
   "language": "python",
   "name": "python3"
  },
  "language_info": {
   "codemirror_mode": {
    "name": "ipython",
    "version": 3
   },
   "file_extension": ".py",
   "mimetype": "text/x-python",
   "name": "python",
   "nbconvert_exporter": "python",
   "pygments_lexer": "ipython3",
   "version": "3.12.7"
  }
 },
 "nbformat": 4,
 "nbformat_minor": 5
}
