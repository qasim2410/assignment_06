{
 "cells": [
  {
   "cell_type": "markdown",
   "id": "2c35e96f-8c00-4564-bf26-3a6dddad590d",
   "metadata": {},
   "source": [
    "# Using cls"
   ]
  },
  {
   "cell_type": "code",
   "execution_count": 1,
   "id": "6aa9a81a-3343-4904-8fcd-d27bc7cb46e2",
   "metadata": {},
   "outputs": [
    {
     "name": "stdout",
     "output_type": "stream",
     "text": [
      "Total objects created: 3\n"
     ]
    }
   ],
   "source": [
    "class Counter:\n",
    "    count = 0  # class variable to count how many objects\n",
    "\n",
    "    def __init__(self):\n",
    "        Counter.count += 1  # increase count when a new object is made\n",
    "\n",
    "    @classmethod\n",
    "    def show_count(cls):\n",
    "        print(\"Total objects created:\", cls.count)\n",
    "\n",
    "# Create 3 objects\n",
    "obj1 = Counter()\n",
    "obj2 = Counter()\n",
    "obj3 = Counter()\n",
    "\n",
    "# Show the count of objects\n",
    "Counter.show_count()"
   ]
  },
  {
   "cell_type": "code",
   "execution_count": null,
   "id": "2f71954e-7251-4c3d-a585-7c62f38710c3",
   "metadata": {},
   "outputs": [],
   "source": []
  }
 ],
 "metadata": {
  "kernelspec": {
   "display_name": "Python 3 (ipykernel)",
   "language": "python",
   "name": "python3"
  },
  "language_info": {
   "codemirror_mode": {
    "name": "ipython",
    "version": 3
   },
   "file_extension": ".py",
   "mimetype": "text/x-python",
   "name": "python",
   "nbconvert_exporter": "python",
   "pygments_lexer": "ipython3",
   "version": "3.12.7"
  }
 },
 "nbformat": 4,
 "nbformat_minor": 5
}
