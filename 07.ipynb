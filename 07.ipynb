{
 "cells": [
  {
   "cell_type": "markdown",
   "id": "b83c7f8b-f3db-490d-8353-f8cea36de9ca",
   "metadata": {},
   "source": [
    "#  Access Modifiers: Public, Private, and Protected"
   ]
  },
  {
   "cell_type": "code",
   "execution_count": 1,
   "id": "e9ddec81-a46b-4b90-833c-6be0c6bb8e88",
   "metadata": {},
   "outputs": [
    {
     "name": "stdout",
     "output_type": "stream",
     "text": [
      "Public Name: Qasim\n",
      "Protected Salary: 50000\n",
      "Private SSN (using name mangling): 123-45-6789\n"
     ]
    }
   ],
   "source": [
    "class Employee:\n",
    "    def __init__(self, name, salary, ssn):\n",
    "        self.name = name         # Public\n",
    "        self._salary = salary    # Protected\n",
    "        self.__ssn = ssn         # Private\n",
    "\n",
    "    def show_info(self):\n",
    "        print(\"Name:\", self.name)\n",
    "        print(\"Salary:\", self._salary)\n",
    "        print(\"SSN:\", self.__ssn)\n",
    "\n",
    "# Create object\n",
    "emp = Employee(\"Qasim\", 50000, \"123-45-6789\")\n",
    "\n",
    "# Accessing Public\n",
    "print(\"Public Name:\", emp.name)\n",
    "\n",
    "# Accessing Protected\n",
    "print(\"Protected Salary:\", emp._salary)  # allowed, but not recommended\n",
    "\n",
    "# Accessing Private (this will cause error if accessed directly)\n",
    "# print(\"Private SSN:\", emp.__ssn)  ❌ This gives an error\n",
    "\n",
    "# Accessing private correctly using name mangling\n",
    "print(\"Private SSN (using name mangling):\", emp._Employee__ssn)"
   ]
  },
  {
   "cell_type": "code",
   "execution_count": null,
   "id": "228c346b-06a3-4d02-91d5-0716b08764a3",
   "metadata": {},
   "outputs": [],
   "source": []
  }
 ],
 "metadata": {
  "kernelspec": {
   "display_name": "Python 3 (ipykernel)",
   "language": "python",
   "name": "python3"
  },
  "language_info": {
   "codemirror_mode": {
    "name": "ipython",
    "version": 3
   },
   "file_extension": ".py",
   "mimetype": "text/x-python",
   "name": "python",
   "nbconvert_exporter": "python",
   "pygments_lexer": "ipython3",
   "version": "3.12.7"
  }
 },
 "nbformat": 4,
 "nbformat_minor": 5
}
