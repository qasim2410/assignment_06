{
 "cells": [
  {
   "cell_type": "markdown",
   "id": "75df7b38-6ef9-4e99-8288-82f8d7c5080b",
   "metadata": {},
   "source": [
    "# Class Variables and Class Methods"
   ]
  },
  {
   "cell_type": "code",
   "execution_count": 2,
   "id": "7d679d9a-d75c-4b4b-93bf-f4e2aff8826c",
   "metadata": {},
   "outputs": [
    {
     "name": "stdout",
     "output_type": "stream",
     "text": [
      "Account Holder: Qasim\n",
      "Bank Name: Old Bank\n",
      "Account Holder: Huzaifa\n",
      "Bank Name: Old Bank\n",
      "\n",
      "After changing bank name:\n",
      "\n",
      "Account Holder: Qasim\n",
      "Bank Name: New Future Bank\n",
      "Account Holder: Huzaifa\n",
      "Bank Name: New Future Bank\n"
     ]
    }
   ],
   "source": [
    "class Bank:\n",
    "    bank_name = \"Old Bank\"  # class variable\n",
    "\n",
    "    def __init__(self, account_holder):\n",
    "        self.account_holder = account_holder\n",
    "\n",
    "    @classmethod\n",
    "    def change_bank_name(cls, name):\n",
    "        cls.bank_name = name\n",
    "\n",
    "    def show(self):\n",
    "        print(\"Account Holder:\", self.account_holder)\n",
    "        print(\"Bank Name:\", Bank.bank_name)\n",
    "\n",
    "# Create two accounts\n",
    "acc1 = Bank(\"Qasim\")\n",
    "acc2 = Bank(\"Huzaifa\")\n",
    "\n",
    "# Show initial bank name\n",
    "acc1.show()\n",
    "acc2.show()\n",
    "\n",
    "# Change bank name using class method\n",
    "Bank.change_bank_name(\"New Future Bank\")\n",
    "\n",
    "# Show updated bank name from both objects\n",
    "print(\"\\nAfter changing bank name:\\n\")\n",
    "acc1.show()\n",
    "acc2.show()"
   ]
  },
  {
   "cell_type": "code",
   "execution_count": null,
   "id": "7768e86a-cdb9-4c8f-b51c-b30aba78e77c",
   "metadata": {},
   "outputs": [],
   "source": []
  }
 ],
 "metadata": {
  "kernelspec": {
   "display_name": "Python 3 (ipykernel)",
   "language": "python",
   "name": "python3"
  },
  "language_info": {
   "codemirror_mode": {
    "name": "ipython",
    "version": 3
   },
   "file_extension": ".py",
   "mimetype": "text/x-python",
   "name": "python",
   "nbconvert_exporter": "python",
   "pygments_lexer": "ipython3",
   "version": "3.12.7"
  }
 },
 "nbformat": 4,
 "nbformat_minor": 5
}
