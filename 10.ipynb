{
 "cells": [
  {
   "cell_type": "markdown",
   "id": "e82b0113-02d9-4768-8559-6ce0250284dc",
   "metadata": {},
   "source": [
    "#  Instance Methods"
   ]
  },
  {
   "cell_type": "code",
   "execution_count": 1,
   "id": "bf543ae7-9a2f-4bc9-807f-362dbfc4c6dc",
   "metadata": {},
   "outputs": [
    {
     "name": "stdout",
     "output_type": "stream",
     "text": [
      "Buddy says: Woof! Woof!\n"
     ]
    }
   ],
   "source": [
    "class Dog:\n",
    "    def __init__(self, name, breed):\n",
    "        self.name = name  # Instance variable for name\n",
    "        self.breed = breed  # Instance variable for breed\n",
    "\n",
    "    def bark(self):\n",
    "        print(f\"{self.name} says: Woof! Woof!\")  # Instance method that prints the dog's name\n",
    "\n",
    "# Create a Dog object\n",
    "my_dog = Dog(\"Buddy\", \"Golden Retriever\")\n",
    "\n",
    "# Call the bark method\n",
    "my_dog.bark()"
   ]
  },
  {
   "cell_type": "code",
   "execution_count": null,
   "id": "3a51833b-8d0e-492b-96bf-4b5a7e7536fa",
   "metadata": {},
   "outputs": [],
   "source": []
  }
 ],
 "metadata": {
  "kernelspec": {
   "display_name": "Python 3 (ipykernel)",
   "language": "python",
   "name": "python3"
  },
  "language_info": {
   "codemirror_mode": {
    "name": "ipython",
    "version": 3
   },
   "file_extension": ".py",
   "mimetype": "text/x-python",
   "name": "python",
   "nbconvert_exporter": "python",
   "pygments_lexer": "ipython3",
   "version": "3.12.7"
  }
 },
 "nbformat": 4,
 "nbformat_minor": 5
}
