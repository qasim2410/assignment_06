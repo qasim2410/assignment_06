{
 "cells": [
  {
   "cell_type": "markdown",
   "id": "3f8920b2-e63e-41a5-a5bd-212c07e97d9c",
   "metadata": {},
   "source": [
    "#  Property Decorators: @property, @setter, and @deleter"
   ]
  },
  {
   "cell_type": "code",
   "execution_count": 1,
   "id": "ffbb8b25-7d6e-4fe2-b245-4ded27d1f149",
   "metadata": {},
   "outputs": [
    {
     "name": "stdout",
     "output_type": "stream",
     "text": [
      "1000\n",
      "1200\n",
      "Price must be positive!\n",
      "Deleting the price...\n"
     ]
    }
   ],
   "source": [
    "class Product:\n",
    "    def __init__(self, name, price):\n",
    "        self.name = name\n",
    "        self._price = price  # Private attribute to store the price\n",
    "    \n",
    "    # Getter: Use @property to access the price\n",
    "    @property\n",
    "    def price(self):\n",
    "        return self._price  # Return the price value\n",
    "    \n",
    "    # Setter: Use @price.setter to update the price\n",
    "    @price.setter\n",
    "    def price(self, new_price):\n",
    "        if new_price > 0:  # Check if the new price is positive\n",
    "            self._price = new_price\n",
    "        else:\n",
    "            print(\"Price must be positive!\")\n",
    "    \n",
    "    # Deleter: Use @price.deleter to delete the price\n",
    "    @price.deleter\n",
    "    def price(self):\n",
    "        print(\"Deleting the price...\")\n",
    "        del self._price  # Delete the price attribute\n",
    "\n",
    "# Create a product object\n",
    "product1 = Product(\"Laptop\", 1000)\n",
    "\n",
    "# Access the price using the @property method\n",
    "print(product1.price)  # Output: 1000\n",
    "\n",
    "# Update the price using the @price.setter method\n",
    "product1.price = 1200\n",
    "print(product1.price)  # Output: 1200\n",
    "\n",
    "# Try to update the price with a negative value\n",
    "product1.price = -500  # Output: Price must be positive!\n",
    "\n",
    "# Delete the price using the @price.deleter method\n",
    "del product1.price  # Output: Deleting the price..."
   ]
  },
  {
   "cell_type": "code",
   "execution_count": null,
   "id": "4a1c04d7-68fc-4c4a-a315-73333b30f7e7",
   "metadata": {},
   "outputs": [],
   "source": []
  }
 ],
 "metadata": {
  "kernelspec": {
   "display_name": "Python 3 (ipykernel)",
   "language": "python",
   "name": "python3"
  },
  "language_info": {
   "codemirror_mode": {
    "name": "ipython",
    "version": 3
   },
   "file_extension": ".py",
   "mimetype": "text/x-python",
   "name": "python",
   "nbconvert_exporter": "python",
   "pygments_lexer": "ipython3",
   "version": "3.12.7"
  }
 },
 "nbformat": 4,
 "nbformat_minor": 5
}
