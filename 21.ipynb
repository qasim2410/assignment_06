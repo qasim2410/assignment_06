{
 "cells": [
  {
   "cell_type": "markdown",
   "id": "77e34497-fd70-4ec0-a954-a9b25c9d1982",
   "metadata": {},
   "source": [
    "# Make a Custom Class Iterable"
   ]
  },
  {
   "cell_type": "code",
   "execution_count": 1,
   "id": "3b720ed8-77ae-40bc-a41e-25cb8d7add21",
   "metadata": {},
   "outputs": [
    {
     "name": "stdout",
     "output_type": "stream",
     "text": [
      "4\n",
      "3\n",
      "2\n",
      "1\n",
      "0\n"
     ]
    }
   ],
   "source": [
    "class Countdown:\n",
    "    def __init__(self, start):\n",
    "        self.start = start  # Initialize the countdown with a start number\n",
    "    \n",
    "    def __iter__(self):\n",
    "        # This method returns the iterator object itself\n",
    "        self.current = self.start  # Set the current number to the start number\n",
    "        return self\n",
    "    \n",
    "    def __next__(self):\n",
    "        if self.current <= 0:\n",
    "            raise StopIteration  # Stop the iteration when the count reaches 0\n",
    "        else:\n",
    "            self.current -= 1  # Decrement the current value by 1\n",
    "            return self.current  # Return the current number in the countdown\n",
    "\n",
    "# Create a Countdown object starting from 5\n",
    "countdown = Countdown(5)\n",
    "\n",
    "# Use the Countdown object in a for loop\n",
    "for number in countdown:\n",
    "    print(number)"
   ]
  },
  {
   "cell_type": "code",
   "execution_count": null,
   "id": "ec0306ed-9900-4dd6-b5d1-44d7220bdd6a",
   "metadata": {},
   "outputs": [],
   "source": []
  }
 ],
 "metadata": {
  "kernelspec": {
   "display_name": "Python 3 (ipykernel)",
   "language": "python",
   "name": "python3"
  },
  "language_info": {
   "codemirror_mode": {
    "name": "ipython",
    "version": 3
   },
   "file_extension": ".py",
   "mimetype": "text/x-python",
   "name": "python",
   "nbconvert_exporter": "python",
   "pygments_lexer": "ipython3",
   "version": "3.12.7"
  }
 },
 "nbformat": 4,
 "nbformat_minor": 5
}
